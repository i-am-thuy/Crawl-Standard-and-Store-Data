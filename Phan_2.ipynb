{
 "cells": [
  {
   "cell_type": "code",
   "execution_count": 1,
   "id": "c1cbeccf",
   "metadata": {},
   "outputs": [],
   "source": [
    "from selenium import webdriver\n",
    "from selenium.webdriver.common.by import By"
   ]
  },
  {
   "cell_type": "code",
   "execution_count": 2,
   "id": "2183d2c2",
   "metadata": {},
   "outputs": [],
   "source": [
    "#1. Truy xuất trang https://babycuatoi.vn/xep-hinh-thong-minh"
   ]
  },
  {
   "cell_type": "code",
   "execution_count": 3,
   "id": "32acd4c7",
   "metadata": {},
   "outputs": [],
   "source": [
    "driver = webdriver.Chrome()"
   ]
  },
  {
   "cell_type": "code",
   "execution_count": 4,
   "id": "b0685dbe",
   "metadata": {},
   "outputs": [],
   "source": [
    "driver.get(\"https://babycuatoi.vn/xep-hinh-thong-minh\")"
   ]
  },
  {
   "cell_type": "code",
   "execution_count": 5,
   "id": "e21618b8",
   "metadata": {},
   "outputs": [],
   "source": [
    "# 2. Thu thập các thông tin liên quan đến tất cả các sản phẩm trong trang đồ chơi xếp hình (kể cả các\n",
    "# sản phẩm ở các trang sau): Tên sản phẩm, Giá bán, Tỷ lệ giảm giá, Thông tin mô tả sản phẩm, link Hình sản phẩm."
   ]
  },
  {
   "cell_type": "code",
   "execution_count": 6,
   "id": "f494db69",
   "metadata": {},
   "outputs": [],
   "source": [
    "while driver.find_element(By.XPATH, '//*[@id=\"viewmore\"]').text == \"XEM THÊM\":\n",
    "    driver.find_element(By.XPATH, '//*[@id=\"viewmore\"]').click()\n",
    "    "
   ]
  },
  {
   "cell_type": "code",
   "execution_count": null,
   "id": "0e456dfa",
   "metadata": {},
   "outputs": [],
   "source": []
  },
  {
   "cell_type": "code",
   "execution_count": 7,
   "id": "cecf251a",
   "metadata": {},
   "outputs": [],
   "source": [
    "products=driver.find_elements(by = By.CSS_SELECTOR, value = \"div.product.tooltip\")"
   ]
  },
  {
   "cell_type": "code",
   "execution_count": 8,
   "id": "187aa70a",
   "metadata": {},
   "outputs": [],
   "source": [
    "lst_names = []\n",
    "lst_prices = []\n",
    "lst_discounts = []\n",
    "lst_link_des = []\n",
    "lst_link_images = []\n",
    "lst_image_names = []"
   ]
  },
  {
   "cell_type": "code",
   "execution_count": 9,
   "id": "89fdb49c",
   "metadata": {},
   "outputs": [],
   "source": [
    "import numpy as np"
   ]
  },
  {
   "cell_type": "code",
   "execution_count": 10,
   "id": "70f0944c",
   "metadata": {},
   "outputs": [],
   "source": [
    "#Lấy danh sách biến cần tìm và chuẩn hóa dữ liệu\n",
    "\n",
    "for product in products:\n",
    "    name = product.find_element(by = By.CSS_SELECTOR, value = \"div.info>a\")\n",
    "    lst_names.append(name.text)\n",
    "    \n",
    "    price = product.find_element(by = By.CSS_SELECTOR, value = \"div.box-price>p.price\").text.replace(\".\",\"\").replace(\"₫\",\"\")\n",
    "    if price.isnumeric():\n",
    "        price = float(price)\n",
    "    else:\n",
    "        price = np.nan\n",
    "    lst_prices.append(price)\n",
    "    \n",
    "    try:\n",
    "        dis_rate = product.find_element(by = By.CSS_SELECTOR, value = \"div.box-price>p.label\").text.replace(\"-\",\"\").replace(\"%\",\"\")\n",
    "    except:\n",
    "        dis_rate = \"0\"\n",
    "\n",
    "    if dis_rate.isnumeric():\n",
    "        dis_rate=float(dis_rate)\n",
    "    else:\n",
    "        dis_rate=np.nan\n",
    "    lst_discounts.append(dis_rate)\n",
    "    \n",
    "    product_link_des = product.find_element(by = By.CSS_SELECTOR, value = \"div.img\").find_element(by = By.TAG_NAME, value = \"a\").get_attribute(\"href\")\n",
    "    lst_link_des.append(product_link_des)\n",
    "    \n",
    "    image_link = product.find_element(by = By.CSS_SELECTOR, value = \"div.img\").find_element(By.TAG_NAME,\"img\")\n",
    "    lst_link_images.append(image_link.get_attribute(\"src\"))"
   ]
  },
  {
   "cell_type": "code",
   "execution_count": 11,
   "id": "8059ac8f",
   "metadata": {},
   "outputs": [],
   "source": [
    "#Lấy tên tập tin hình sản phẩm\n",
    "for link_image in lst_link_images:\n",
    "    image_name = link_image.split('/')[-1]\n",
    "    lst_image_names.append(image_name)"
   ]
  },
  {
   "cell_type": "code",
   "execution_count": 12,
   "id": "db36eb0e",
   "metadata": {
    "scrolled": true
   },
   "outputs": [
    {
     "name": "stdout",
     "output_type": "stream",
     "text": [
      "['Bộ bàn ghế xếp hình LEGO đa năng kèm 105 chi tiết xếp hình cỡ lớn UG401-1', 'Bộ bàn chơi LEGO đa năng 2 ghế kèm bộ xếp hình 100 chi tiết cỡ lớn 188T-8/188T-9', 'Đồ chơi xếp hình ngôi nhà trái cây 336 chi tiết 5218', 'Đồ chơi xếp hình cho bé gái siêu thị 490 chi tiết 6571']\n",
      "[580000.0, 1100000.0, 199000.0, 399000.0]\n",
      "[20.0, 20.0, 0.0, 0.0]\n",
      "['https://babycuatoi.vn/bo-ban-ghe-lego-da-nang-kem-105-chi-tiet-xep-hinh-co-lon-ug401-1.html', 'https://babycuatoi.vn/bo-ban-choi-lego-da-nang-cho-be-188t-8.html', 'https://babycuatoi.vn/do-choi-xep-hinh-cho-be-gai-ngo-nha-trai-cay-336-chi-tiet-5218.html', 'https://babycuatoi.vn/do-choi-xep-hinh-cho-be-gai-sieu-thi-490-chi-tiet-6571.html']\n",
      "['https://sudospaces.com/babycuatoi/2021/11/ug401-1-ban-ghe-tre-em-kiem-xep-hinh-lego-cho-be-medium.jpg', 'https://sudospaces.com/babycuatoi/2021/01/188t-8-ban-choi-lego-cho-be-medium.jpg', 'https://sudospaces.com/babycuatoi/2022/05/5218-do-choi-xep-hinh-cho-be-1-medium.jpg', 'https://sudospaces.com/babycuatoi/2021/12/5571-medium.png']\n"
     ]
    }
   ],
   "source": [
    "print(lst_names[:4])\n",
    "print(lst_prices[:4])\n",
    "print(lst_discounts[:4])\n",
    "print(lst_link_des[:4])\n",
    "print(lst_link_images[:4])"
   ]
  },
  {
   "cell_type": "code",
   "execution_count": 13,
   "id": "80df6143",
   "metadata": {},
   "outputs": [],
   "source": [
    "import time"
   ]
  },
  {
   "cell_type": "code",
   "execution_count": null,
   "id": "ffacf43d",
   "metadata": {},
   "outputs": [],
   "source": [
    "lst_product_des = []\n",
    "for link_des in lst_link_des:\n",
    "    driver.get(link_des)\n",
    "    des = driver.find_element(by = By.CSS_SELECTOR, value = \"div.info.right\").text.replace(\"✪ \",\"\").replace(\"✔ \",\"\")\n",
    "    \n",
    "    lst_temp = []\n",
    "\n",
    "    des_ = des.split(\"\\n\")\n",
    "    for row in des_:\n",
    "        if row[0] == \"-\" or row[0] == \"+\":\n",
    "            row = row.replace(\" - \",\"\",1).replace(\"- \",\"\",1).replace(\"-\",\"\",1).replace(\"+\",\"\",1)\n",
    "        lst_temp.append(row+\"\\n\")\n",
    "   \n",
    "    lst_temp = ''.join(lst_temp)\n",
    "    lst_product_des.append(lst_temp)\n",
    "    "
   ]
  },
  {
   "cell_type": "code",
   "execution_count": null,
   "id": "e5d79e3f",
   "metadata": {},
   "outputs": [],
   "source": []
  },
  {
   "cell_type": "code",
   "execution_count": null,
   "id": "e21d3892",
   "metadata": {},
   "outputs": [],
   "source": [
    "driver.close()"
   ]
  },
  {
   "cell_type": "code",
   "execution_count": null,
   "id": "b8d905b7",
   "metadata": {},
   "outputs": [],
   "source": [
    "#3. Lưu vào tập tin csv sau khi đã chuẩn hóa, gồm các thông tin: Tên sản phẩm, \n",
    "#Giá bán, Tỷ lệ giảm giá, Tên tập tin hình sản phẩm (trong đó giá bán và tỷ lệ giảm giá phải có kiểu số)."
   ]
  },
  {
   "cell_type": "code",
   "execution_count": null,
   "id": "dc163fb3",
   "metadata": {},
   "outputs": [],
   "source": [
    "import pandas as pd"
   ]
  },
  {
   "cell_type": "code",
   "execution_count": null,
   "id": "2262df89",
   "metadata": {},
   "outputs": [],
   "source": [
    "df = pd.DataFrame({\n",
    "    'name': lst_names,\n",
    "    'price': lst_prices,\n",
    "    'discount_rate': lst_discounts,\n",
    "    'product_description': lst_product_des,\n",
    "    'image_name': lst_image_names\n",
    "})\n",
    "df.head()"
   ]
  },
  {
   "cell_type": "code",
   "execution_count": null,
   "id": "bab92604",
   "metadata": {},
   "outputs": [],
   "source": [
    "df.to_csv('Products.csv', encoding='utf-8-sig', index=False)\n",
    "print('Đã lưu csv')"
   ]
  },
  {
   "cell_type": "code",
   "execution_count": null,
   "id": "a904990b",
   "metadata": {},
   "outputs": [],
   "source": [
    "#4. Xử lý lưu trữ các hình ảnh thu thập được vào thư mục Images"
   ]
  },
  {
   "cell_type": "code",
   "execution_count": null,
   "id": "b805ebd0",
   "metadata": {},
   "outputs": [],
   "source": [
    "import requests"
   ]
  },
  {
   "cell_type": "code",
   "execution_count": null,
   "id": "05c01eab",
   "metadata": {},
   "outputs": [],
   "source": [
    "for image_link in lst_link_images:\n",
    "    image_name = 'Images/' + image_link.split('/')[-1]\n",
    "    lst_image_names.append(image_name)\n",
    "    img_response = requests.get(image_link, allow_redirects=True)\n",
    "    f = open(image_name, 'wb')\n",
    "    f.write(img_response.content)\n",
    "print('Lưu thành công')"
   ]
  }
 ],
 "metadata": {
  "kernelspec": {
   "display_name": "Python 3 (ipykernel)",
   "language": "python",
   "name": "python3"
  },
  "language_info": {
   "codemirror_mode": {
    "name": "ipython",
    "version": 3
   },
   "file_extension": ".py",
   "mimetype": "text/x-python",
   "name": "python",
   "nbconvert_exporter": "python",
   "pygments_lexer": "ipython3",
   "version": "3.10.4"
  }
 },
 "nbformat": 4,
 "nbformat_minor": 5
}
